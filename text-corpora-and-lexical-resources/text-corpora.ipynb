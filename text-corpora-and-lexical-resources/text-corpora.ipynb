{
 "metadata": {
  "language_info": {
   "codemirror_mode": {
    "name": "ipython",
    "version": 3
   },
   "file_extension": ".py",
   "mimetype": "text/x-python",
   "name": "python",
   "nbconvert_exporter": "python",
   "pygments_lexer": "ipython3",
   "version": "3.8.8-final"
  },
  "orig_nbformat": 2,
  "kernelspec": {
   "name": "python388jvsc74a57bd0cfac66161ae91176b189fc5d840229a5daa938976225f5ac7dd7199e440d2efc",
   "display_name": "Python 3.8.8 64-bit ('nlp': conda)"
  },
  "metadata": {
   "interpreter": {
    "hash": "cfac66161ae91176b189fc5d840229a5daa938976225f5ac7dd7199e440d2efc"
   }
  }
 },
 "nbformat": 4,
 "nbformat_minor": 2,
 "cells": [
  {
   "source": [
    "## Accessing Text Corpora"
   ],
   "cell_type": "markdown",
   "metadata": {}
  },
  {
   "cell_type": "code",
   "execution_count": 4,
   "metadata": {},
   "outputs": [],
   "source": [
    "import nltk"
   ]
  },
  {
   "cell_type": "code",
   "execution_count": 10,
   "metadata": {},
   "outputs": [
    {
     "output_type": "stream",
     "name": "stdout",
     "text": [
      "which:245; when:169; who:268; whether:18; where:59; what:95; while:55; why:14; whipped:2; white:57; whom:8; whereby:3; whole:11; wherever:1; whose:22; wholesale:1; wheel:4; whatever:2; whipple:1; whitey:1; whiz:2; whitfield:1; whip:2; whirling:1; wheeled:2; whee:1; wheeler:2; whisking:1; wheels:1; whitney:1; whopping:1; wholly-owned:1; whims:1; whelan:1; white-clad:1; wheat:1; whites:2; whiplash:1; whichever:1; what's:1; wholly:1; "
     ]
    }
   ],
   "source": [
    "# Brown Corpus\n",
    "from nltk.corpus import brown\n",
    "news_text = brown.words(categories='news')\n",
    "fdist = nltk.FreqDist([w.lower() for w in news_text])\n",
    "wh_keys = [key for key in fdist.keys() if key.lower().startswith('wh')]\n",
    "for key in wh_keys:\n",
    "    print(key+':'+str(fdist[key]), end='; ')"
   ]
  },
  {
   "cell_type": "code",
   "execution_count": null,
   "metadata": {},
   "outputs": [],
   "source": []
  }
 ]
}